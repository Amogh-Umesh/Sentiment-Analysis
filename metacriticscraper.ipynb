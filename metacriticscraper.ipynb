{
 "cells": [
  {
   "cell_type": "code",
   "execution_count": 2,
   "id": "289c75b7",
   "metadata": {},
   "outputs": [],
   "source": [
    "import os\n",
    "import selenium\n",
    "from selenium import webdriver\n",
    "import time\n",
    "from PIL import Image\n",
    "import io\n",
    "import requests\n",
    "from webdriver_manager.chrome import ChromeDriverManager\n",
    "from selenium.common.exceptions import ElementClickInterceptedException"
   ]
  },
  {
   "cell_type": "code",
   "execution_count": 3,
   "id": "98a564b6",
   "metadata": {},
   "outputs": [
    {
     "name": "stderr",
     "output_type": "stream",
     "text": [
      "\n",
      "\n",
      "====== WebDriver manager ======\n",
      "Current google-chrome version is 98.0.4758\n",
      "Get LATEST driver version for 98.0.4758\n",
      "Driver [C:\\Users\\Amogh Umesh\\.wdm\\drivers\\chromedriver\\win32\\98.0.4758.102\\chromedriver.exe] found in cache\n"
     ]
    }
   ],
   "source": [
    "driver  = webdriver.Chrome(ChromeDriverManager().install())\n",
    "driver.maximize_window()"
   ]
  },
  {
   "cell_type": "code",
   "execution_count": 4,
   "id": "cf9d627e",
   "metadata": {},
   "outputs": [],
   "source": [
    "n = 0"
   ]
  },
  {
   "cell_type": "code",
   "execution_count": 7,
   "id": "ea754620",
   "metadata": {},
   "outputs": [
    {
     "data": {
      "text/plain": [
       "{}"
      ]
     },
     "execution_count": 7,
     "metadata": {},
     "output_type": "execute_result"
    }
   ],
   "source": [
    "driver.execute_cdp_cmd('Network.setUserAgentOverride', {\"userAgent\":\"MAC Chrome\", \"platform\":\"MAC\"})"
   ]
  },
  {
   "cell_type": "code",
   "execution_count": 8,
   "id": "2525b240",
   "metadata": {},
   "outputs": [],
   "source": [
    "driver.get('https://www.metacritic.com/game/pc/the-witcher-3-wild-hunt/user-reviews?sort-by=score&num_items=100&page={}'.format(n))"
   ]
  },
  {
   "cell_type": "code",
   "execution_count": 46,
   "id": "11cb9900",
   "metadata": {},
   "outputs": [],
   "source": [
    "webpage = driver.find_elements_by_class_name('review_body')\n"
   ]
  },
  {
   "cell_type": "code",
   "execution_count": 53,
   "id": "070ba531",
   "metadata": {},
   "outputs": [
    {
     "name": "stdout",
     "output_type": "stream",
     "text": [
      "0\n"
     ]
    }
   ],
   "source": [
    "elements = driver.find_elements_by_class_name('toggle_expand_collapse toggle_expand')\n",
    "for i in elements:\n",
    "    i.click()\n",
    "print(len(elements))\n",
    "for i in webpage:\n",
    "    try:        \n",
    "        print(i.find_elements_by_class_name('blurb blurb_expanded').text)\n",
    "    except:\n",
    "        pass\n"
   ]
  }
 ],
 "metadata": {
  "kernelspec": {
   "display_name": "Python 3",
   "language": "python",
   "name": "python3"
  },
  "language_info": {
   "codemirror_mode": {
    "name": "ipython",
    "version": 3
   },
   "file_extension": ".py",
   "mimetype": "text/x-python",
   "name": "python",
   "nbconvert_exporter": "python",
   "pygments_lexer": "ipython3",
   "version": "3.9.5"
  }
 },
 "nbformat": 4,
 "nbformat_minor": 5
}
