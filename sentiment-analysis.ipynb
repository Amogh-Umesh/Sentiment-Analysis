{
 "cells": [
  {
   "cell_type": "code",
   "execution_count": 1,
   "id": "48349331",
   "metadata": {
    "execution": {
     "iopub.execute_input": "2022-02-26T11:59:15.833968Z",
     "iopub.status.busy": "2022-02-26T11:59:15.832057Z",
     "iopub.status.idle": "2022-02-26T11:59:23.640546Z",
     "shell.execute_reply": "2022-02-26T11:59:23.639646Z",
     "shell.execute_reply.started": "2022-02-26T10:24:15.190863Z"
    },
    "papermill": {
     "duration": 7.835539,
     "end_time": "2022-02-26T11:59:23.640948",
     "exception": false,
     "start_time": "2022-02-26T11:59:15.805409",
     "status": "completed"
    },
    "tags": []
   },
   "outputs": [],
   "source": [
    "import numpy as np\n",
    "import pandas as pd\n",
    "import re\n",
    "import matplotlib.pyplot as plt\n",
    "import string\n",
    "\n",
    "import nltk\n",
    "from nltk.tokenize import TweetTokenizer\n",
    "from nltk.tag import pos_tag\n",
    "from nltk.stem.wordnet import WordNetLemmatizer\n",
    "from nltk.corpus import stopwords\n",
    "\n",
    "import keras\n",
    "from keras.preprocessing.text import Tokenizer\n",
    "from keras.preprocessing.sequence import pad_sequences\n",
    "from keras.models import Sequential\n",
    "from keras.layers import Activation, Dense, Dropout, Embedding, Flatten, Conv1D, MaxPooling1D, LSTM, Bidirectional\n",
    "from keras import utils\n",
    "from keras.callbacks import ReduceLROnPlateau, EarlyStopping\n",
    "\n",
    "from sklearn.model_selection import train_test_split\n",
    "from sklearn.preprocessing import LabelEncoder\n",
    "from sklearn.metrics import confusion_matrix, classification_report, accuracy_score\n"
   ]
  },
  {
   "cell_type": "code",
   "execution_count": 2,
   "id": "ca822385",
   "metadata": {
    "execution": {
     "iopub.execute_input": "2022-02-26T11:59:23.688919Z",
     "iopub.status.busy": "2022-02-26T11:59:23.688083Z",
     "iopub.status.idle": "2022-02-26T11:59:26.460901Z",
     "shell.execute_reply": "2022-02-26T11:59:26.460207Z",
     "shell.execute_reply.started": "2022-02-26T10:24:29.063622Z"
    },
    "papermill": {
     "duration": 2.800248,
     "end_time": "2022-02-26T11:59:26.461052",
     "exception": false,
     "start_time": "2022-02-26T11:59:23.660804",
     "status": "completed"
    },
    "tags": []
   },
   "outputs": [],
   "source": [
    "data_types = {\"recommendationid\":\"string\",\"author\":\"string\", \n",
    "             \"language\" : \"string\", \n",
    "             \"timestamp_created\":\"string\", \"timestamp_updated\":\"string\", \n",
    "             \"voted_up\":\"string\", \"votes_up\":int, \"votes_funny\":int, \n",
    "             \"weighted_vote_score\":float, \"comment_count\":int, \n",
    "             \"steam_purchase\":\"string\", \"received_for_free\":\"string\", \n",
    "             \"written_during_early_access\":\"string\", \n",
    "             \"timestamp_dev_responded\":\"string\", \"developer_response\":\"string\",\n",
    "             \"Text\":\"string\", \"target\":int}\n",
    "\n",
    "train = pd.read_csv(\"../input/sentiments/training_data.csv\", dtype = data_types)\n",
    "i = 0\n",
    "for t in train[\"Text\"]:\n",
    "    if type(t)== pd._libs.missing.NAType:\n",
    "        train[\"Text\"][i] = \"\"\n",
    "    i = i+1"
   ]
  },
  {
   "cell_type": "code",
   "execution_count": 3,
   "id": "7ffe308e",
   "metadata": {
    "execution": {
     "iopub.execute_input": "2022-02-26T11:59:26.534836Z",
     "iopub.status.busy": "2022-02-26T11:59:26.533753Z",
     "iopub.status.idle": "2022-02-26T11:59:26.537024Z",
     "shell.execute_reply": "2022-02-26T11:59:26.536332Z",
     "shell.execute_reply.started": "2022-02-26T10:24:32.764693Z"
    },
    "papermill": {
     "duration": 0.057034,
     "end_time": "2022-02-26T11:59:26.537174",
     "exception": false,
     "start_time": "2022-02-26T11:59:26.480140",
     "status": "completed"
    },
    "tags": []
   },
   "outputs": [],
   "source": [
    "train = train[['Text', 'target']]"
   ]
  },
  {
   "cell_type": "code",
   "execution_count": 4,
   "id": "7546c561",
   "metadata": {
    "execution": {
     "iopub.execute_input": "2022-02-26T11:59:26.633772Z",
     "iopub.status.busy": "2022-02-26T11:59:26.597215Z",
     "iopub.status.idle": "2022-02-26T11:59:28.280415Z",
     "shell.execute_reply": "2022-02-26T11:59:28.279843Z",
     "shell.execute_reply.started": "2022-02-26T10:24:34.455794Z"
    },
    "papermill": {
     "duration": 1.724376,
     "end_time": "2022-02-26T11:59:28.280562",
     "exception": false,
     "start_time": "2022-02-26T11:59:26.556186",
     "status": "completed"
    },
    "tags": []
   },
   "outputs": [
    {
     "data": {
      "text/plain": [
       "<bound method NDFrame.describe of                                                      Text  target\n",
       "0                              fun open world time killer       1\n",
       "1       holy shit game truly live hype play hours far ...       1\n",
       "2       good game polish people make great game poland...       1\n",
       "3       like weak finally get around play year update ...       1\n",
       "4                                     great game get over       1\n",
       "...                                                   ...     ...\n",
       "144341  buggy horrible graphics starwars fall order bl...       0\n",
       "144342  feel like I wait enough know game gonna end ho...       0\n",
       "144343                                                yes       1\n",
       "144344  not let hype blind game poor state right perha...       0\n",
       "144345                                         kool guess       1\n",
       "\n",
       "[135270 rows x 2 columns]>"
      ]
     },
     "execution_count": 4,
     "metadata": {},
     "output_type": "execute_result"
    }
   ],
   "source": [
    "longrev_index = [x  for x in range(len(train['Text'])) if len(train['Text'][x].split(' '))>150]\n",
    "train = train.drop(longrev_index)\n",
    "train.describe"
   ]
  },
  {
   "cell_type": "code",
   "execution_count": 5,
   "id": "7b92637c",
   "metadata": {
    "execution": {
     "iopub.execute_input": "2022-02-26T11:59:28.340910Z",
     "iopub.status.busy": "2022-02-26T11:59:28.339606Z",
     "iopub.status.idle": "2022-02-26T11:59:54.137734Z",
     "shell.execute_reply": "2022-02-26T11:59:54.137139Z",
     "shell.execute_reply.started": "2022-02-26T10:24:40.503741Z"
    },
    "papermill": {
     "duration": 25.837013,
     "end_time": "2022-02-26T11:59:54.137896",
     "exception": false,
     "start_time": "2022-02-26T11:59:28.300883",
     "status": "completed"
    },
    "tags": []
   },
   "outputs": [],
   "source": [
    "tk = TweetTokenizer(reduce_len=True)\n",
    "X = train['Text'].tolist()\n",
    "Y = train['target'].tolist()\n",
    "data = []\n",
    "for x, y in zip(X, Y):\n",
    "    if y == 1:\n",
    "        data.append((tk.tokenize(x), 1))\n",
    "    else:\n",
    "        data.append((tk.tokenize(x), 0))"
   ]
  },
  {
   "cell_type": "code",
   "execution_count": 6,
   "id": "169e81bd",
   "metadata": {
    "execution": {
     "iopub.execute_input": "2022-02-26T11:59:54.191679Z",
     "iopub.status.busy": "2022-02-26T11:59:54.181246Z",
     "iopub.status.idle": "2022-02-26T11:59:54.200461Z",
     "shell.execute_reply": "2022-02-26T11:59:54.201134Z",
     "shell.execute_reply.started": "2022-02-26T10:24:51.872361Z"
    },
    "papermill": {
     "duration": 0.042793,
     "end_time": "2022-02-26T11:59:54.201329",
     "exception": false,
     "start_time": "2022-02-26T11:59:54.158536",
     "status": "completed"
    },
    "tags": []
   },
   "outputs": [],
   "source": [
    "STOP_WORDS = stopwords.words('english')\n",
    "def cleaned(token):\n",
    "    if token == 'u':\n",
    "        return 'you'\n",
    "    if token == 'r':\n",
    "        return 'are'\n",
    "    if token == 'some1':\n",
    "        return 'someone'\n",
    "    if token == 'yrs':\n",
    "        return 'years'\n",
    "    if token == 'hrs':\n",
    "        return 'hours'\n",
    "    if token == 'mins':\n",
    "        return 'minutes'\n",
    "    if token == 'secs':\n",
    "        return 'seconds'\n",
    "    if token == 'pls' or token == 'plz':\n",
    "        return 'please'\n",
    "    if token == '2morow':\n",
    "        return 'tomorrow'\n",
    "    if token == '2day':\n",
    "        return 'today'\n",
    "    if token == '4got' or token == '4gotten':\n",
    "        return 'forget'\n",
    "    if token == 'amp' or token == 'quot' or token == 'lt' or token == 'gt' or token == '½25':\n",
    "        return ''\n",
    "    return token\n",
    "\n",
    "def remove_noise(tweet_tokens):\n",
    "\n",
    "    cleaned_tokens = []\n",
    "\n",
    "    for token, tag in pos_tag(tweet_tokens):\n",
    "        token = re.sub('http[s]?://(?:[a-zA-Z]|[0-9]|[$-_@.&+#]|[!*\\(\\),]|'\\\n",
    "                       '(?:%[0-9a-fA-F][0-9a-fA-F]))+','', token)\n",
    "        token = re.sub(\"(@[A-Za-z0-9_]+)\",\"\", token)\n",
    "        token = re.sub(\"\\'\", \"\", token)  \n",
    "\n",
    "        if tag.startswith(\"NN\"):\n",
    "            pos = 'n'\n",
    "        elif tag.startswith('VB'):\n",
    "            pos = 'v'\n",
    "        else:\n",
    "            pos = 'a'\n",
    "\n",
    "        lemmatizer = WordNetLemmatizer()\n",
    "        token = lemmatizer.lemmatize(token, pos)\n",
    "\n",
    "        cleaned_token = cleaned(token.lower())\n",
    "        if cleaned_token not in string.punctuation and len(cleaned_token) > 2 and cleaned_token not in STOP_WORDS:\n",
    "            cleaned_tokens.append(cleaned_token)\n",
    "            \n",
    "    return cleaned_tokens"
   ]
  },
  {
   "cell_type": "code",
   "execution_count": 7,
   "id": "fd551558",
   "metadata": {
    "execution": {
     "iopub.execute_input": "2022-02-26T11:59:54.244014Z",
     "iopub.status.busy": "2022-02-26T11:59:54.243330Z",
     "iopub.status.idle": "2022-02-26T11:59:54.249912Z",
     "shell.execute_reply": "2022-02-26T11:59:54.250436Z",
     "shell.execute_reply.started": "2022-02-26T10:25:43.990274Z"
    },
    "papermill": {
     "duration": 0.029493,
     "end_time": "2022-02-26T11:59:54.250621",
     "exception": false,
     "start_time": "2022-02-26T11:59:54.221128",
     "status": "completed"
    },
    "tags": []
   },
   "outputs": [],
   "source": [
    "def read_glove_vecs(glove_file):\n",
    "    with open(glove_file, 'r', encoding=\"utf8\") as f:\n",
    "        words = set()\n",
    "        word_to_vec_map = {}\n",
    "        for line in f:\n",
    "            line = line.strip().split()\n",
    "            curr_word = line[0]\n",
    "            words.add(curr_word)\n",
    "            word_to_vec_map[curr_word] = np.array(line[1:], dtype=np.float64)\n",
    "        \n",
    "        i = 1\n",
    "        words_to_index = {}\n",
    "        index_to_words = {}\n",
    "        for w in sorted(words):\n",
    "            words_to_index[w] = i\n",
    "            index_to_words[i] = w\n",
    "            i = i + 1\n",
    "    return words_to_index, index_to_words, word_to_vec_map"
   ]
  },
  {
   "cell_type": "code",
   "execution_count": 8,
   "id": "77260155",
   "metadata": {
    "execution": {
     "iopub.execute_input": "2022-02-26T11:59:54.297963Z",
     "iopub.status.busy": "2022-02-26T11:59:54.297275Z",
     "iopub.status.idle": "2022-02-26T12:00:02.594004Z",
     "shell.execute_reply": "2022-02-26T12:00:02.593279Z",
     "shell.execute_reply.started": "2022-02-26T10:25:04.775548Z"
    },
    "papermill": {
     "duration": 8.322454,
     "end_time": "2022-02-26T12:00:02.594164",
     "exception": false,
     "start_time": "2022-02-26T11:59:54.271710",
     "status": "completed"
    },
    "tags": []
   },
   "outputs": [],
   "source": [
    "word_to_index, index_to_word, word_to_vec_map = read_glove_vecs('../input/sentiments/glove.6B.50d.txt')"
   ]
  },
  {
   "cell_type": "code",
   "execution_count": 9,
   "id": "d2eebc3d",
   "metadata": {
    "execution": {
     "iopub.execute_input": "2022-02-26T12:00:02.651373Z",
     "iopub.status.busy": "2022-02-26T12:00:02.650657Z",
     "iopub.status.idle": "2022-02-26T12:04:57.355254Z",
     "shell.execute_reply": "2022-02-26T12:04:57.355817Z",
     "shell.execute_reply.started": "2022-02-26T10:25:51.876716Z"
    },
    "papermill": {
     "duration": 294.735716,
     "end_time": "2022-02-26T12:04:57.356032",
     "exception": false,
     "start_time": "2022-02-26T12:00:02.620316",
     "status": "completed"
    },
    "tags": []
   },
   "outputs": [],
   "source": [
    "cleaned_tokens_list = []\n",
    "for tokens, label in data:\n",
    "    cleaned_tokens_list.append((remove_noise(tokens), label))"
   ]
  },
  {
   "cell_type": "code",
   "execution_count": 10,
   "id": "89ae73c5",
   "metadata": {
    "execution": {
     "iopub.execute_input": "2022-02-26T12:04:57.399594Z",
     "iopub.status.busy": "2022-02-26T12:04:57.398867Z",
     "iopub.status.idle": "2022-02-26T12:04:59.715964Z",
     "shell.execute_reply": "2022-02-26T12:04:59.715392Z",
     "shell.execute_reply.started": "2022-02-26T10:29:45.408964Z"
    },
    "papermill": {
     "duration": 2.339439,
     "end_time": "2022-02-26T12:04:59.716126",
     "exception": false,
     "start_time": "2022-02-26T12:04:57.376687",
     "status": "completed"
    },
    "tags": []
   },
   "outputs": [
    {
     "name": "stdout",
     "output_type": "stream",
     "text": [
      "max_len: 146\n"
     ]
    }
   ],
   "source": [
    "unks = []\n",
    "UNKS = []\n",
    "\n",
    "def cleared(word):\n",
    "    res = \"\"\n",
    "    prev = None\n",
    "    for char in word:\n",
    "        if char == prev: continue\n",
    "        prev = char\n",
    "        res += char\n",
    "    return res\n",
    "\n",
    "\n",
    "def sentence_to_indices(sentence_words, word_to_index, max_len, i):\n",
    "    global X, Y\n",
    "    sentence_indices = []\n",
    "    for j, w in enumerate(sentence_words):\n",
    "        try:\n",
    "            index = word_to_index[w]\n",
    "        except:\n",
    "            UNKS.append(w)\n",
    "            w = cleared(w)\n",
    "            try:\n",
    "                index = word_to_index[w]\n",
    "            except:\n",
    "                index = word_to_index['unk']\n",
    "                unks.append(w)\n",
    "        X[i, j] = index\n",
    "\n",
    "\n",
    "\n",
    "list_len = [len(i) for i, j in cleaned_tokens_list]\n",
    "max_len = max(list_len)\n",
    "print('max_len:', max_len)\n",
    "\n",
    "X = np.zeros((len(cleaned_tokens_list), max_len))\n",
    "Y = np.zeros((len(cleaned_tokens_list), ))\n",
    "\n",
    "for i, tk_lb in enumerate(cleaned_tokens_list):\n",
    "    tokens, label = tk_lb\n",
    "    sentence_to_indices(tokens, word_to_index, max_len, i)\n",
    "    Y[i] = label"
   ]
  },
  {
   "cell_type": "code",
   "execution_count": 11,
   "id": "9a7fa616",
   "metadata": {
    "execution": {
     "iopub.execute_input": "2022-02-26T12:04:59.764283Z",
     "iopub.status.busy": "2022-02-26T12:04:59.763245Z",
     "iopub.status.idle": "2022-02-26T12:04:59.765374Z",
     "shell.execute_reply": "2022-02-26T12:04:59.765868Z",
     "shell.execute_reply.started": "2022-02-26T10:29:47.156174Z"
    },
    "papermill": {
     "duration": 0.030124,
     "end_time": "2022-02-26T12:04:59.766046",
     "exception": false,
     "start_time": "2022-02-26T12:04:59.735922",
     "status": "completed"
    },
    "tags": []
   },
   "outputs": [],
   "source": [
    "\n",
    "def embedding_layer(word_to_vec_map, word_to_index, max_len):\n",
    "    vocab_len = len(word_to_index) + 1\n",
    "    emb_dim = word_to_vec_map[\"unk\"].shape[0]    \n",
    "    emb_matrix = np.zeros((vocab_len, emb_dim))    \n",
    "    for word, idx in word_to_index.items():\n",
    "        emb_matrix[idx, :] = word_to_vec_map[word]        \n",
    "    embedding_layer = Embedding(vocab_len, emb_dim, trainable=False, input_shape=(max_len,))\n",
    "    embedding_layer.build((None,))\n",
    "    embedding_layer.set_weights([emb_matrix])\n",
    "    \n",
    "    return embedding_layer"
   ]
  },
  {
   "cell_type": "code",
   "execution_count": 12,
   "id": "677afed2",
   "metadata": {
    "execution": {
     "iopub.execute_input": "2022-02-26T12:04:59.814099Z",
     "iopub.status.busy": "2022-02-26T12:04:59.813279Z",
     "iopub.status.idle": "2022-02-26T12:05:02.047086Z",
     "shell.execute_reply": "2022-02-26T12:05:02.046198Z",
     "shell.execute_reply.started": "2022-02-26T10:32:24.087824Z"
    },
    "papermill": {
     "duration": 2.261142,
     "end_time": "2022-02-26T12:05:02.047309",
     "exception": false,
     "start_time": "2022-02-26T12:04:59.786167",
     "status": "completed"
    },
    "tags": []
   },
   "outputs": [
    {
     "name": "stderr",
     "output_type": "stream",
     "text": [
      "2022-02-26 12:04:59.858786: I tensorflow/core/common_runtime/process_util.cc:146] Creating new thread pool with default inter op setting: 2. Tune using inter_op_parallelism_threads for best performance.\n"
     ]
    },
    {
     "name": "stdout",
     "output_type": "stream",
     "text": [
      "Model: \"sequential\"\n",
      "_________________________________________________________________\n",
      "Layer (type)                 Output Shape              Param #   \n",
      "=================================================================\n",
      "embedding (Embedding)        (None, 146, 50)           20000050  \n",
      "_________________________________________________________________\n",
      "bidirectional (Bidirectional (None, 146, 256)          183296    \n",
      "_________________________________________________________________\n",
      "dropout (Dropout)            (None, 146, 256)          0         \n",
      "_________________________________________________________________\n",
      "bidirectional_1 (Bidirection (None, 146, 256)          394240    \n",
      "_________________________________________________________________\n",
      "dense (Dense)                (None, 146, 64)           16448     \n",
      "_________________________________________________________________\n",
      "dropout_1 (Dropout)          (None, 146, 64)           0         \n",
      "_________________________________________________________________\n",
      "dense_1 (Dense)              (None, 146, 1)            65        \n",
      "=================================================================\n",
      "Total params: 20,594,099\n",
      "Trainable params: 594,049\n",
      "Non-trainable params: 20,000,050\n",
      "_________________________________________________________________\n"
     ]
    }
   ],
   "source": [
    "model = Sequential()\n",
    "model.add(embedding_layer(word_to_vec_map, word_to_index, max_len))\n",
    "model.add(Bidirectional(LSTM(units=128, return_sequences=True)))\n",
    "model.add(Dropout(0.3))\n",
    "model.add(Bidirectional(LSTM(units=128, return_sequences=True)))\n",
    "model.add(Dense(units=64, activation='relu'))\n",
    "model.add(Dropout(0.3))\n",
    "model.add(Dense(units=1, activation='sigmoid'))\n",
    "\n",
    "model.summary()"
   ]
  },
  {
   "cell_type": "code",
   "execution_count": 13,
   "id": "02811803",
   "metadata": {
    "execution": {
     "iopub.execute_input": "2022-02-26T12:05:02.100890Z",
     "iopub.status.busy": "2022-02-26T12:05:02.092889Z",
     "iopub.status.idle": "2022-02-26T12:05:02.107782Z",
     "shell.execute_reply": "2022-02-26T12:05:02.107253Z",
     "shell.execute_reply.started": "2022-02-26T10:32:29.263523Z"
    },
    "papermill": {
     "duration": 0.03897,
     "end_time": "2022-02-26T12:05:02.107945",
     "exception": false,
     "start_time": "2022-02-26T12:05:02.068975",
     "status": "completed"
    },
    "tags": []
   },
   "outputs": [],
   "source": [
    "model.compile(loss='binary_crossentropy', optimizer='adam', metrics=['accuracy'])"
   ]
  },
  {
   "cell_type": "code",
   "execution_count": 14,
   "id": "471ed99e",
   "metadata": {
    "execution": {
     "iopub.execute_input": "2022-02-26T12:05:02.155349Z",
     "iopub.status.busy": "2022-02-26T12:05:02.154523Z",
     "iopub.status.idle": "2022-02-26T12:05:02.296904Z",
     "shell.execute_reply": "2022-02-26T12:05:02.296195Z",
     "shell.execute_reply.started": "2022-02-26T10:32:31.982215Z"
    },
    "papermill": {
     "duration": 0.168464,
     "end_time": "2022-02-26T12:05:02.297060",
     "exception": false,
     "start_time": "2022-02-26T12:05:02.128596",
     "status": "completed"
    },
    "tags": []
   },
   "outputs": [],
   "source": [
    "X_train, X_test, Y_train, Y_test = train_test_split(X, Y, test_size=0.3, random_state=0, stratify=Y)"
   ]
  },
  {
   "cell_type": "code",
   "execution_count": 15,
   "id": "272d2513",
   "metadata": {
    "execution": {
     "iopub.execute_input": "2022-02-26T12:05:02.343130Z",
     "iopub.status.busy": "2022-02-26T12:05:02.342395Z",
     "iopub.status.idle": "2022-02-26T12:05:02.347146Z",
     "shell.execute_reply": "2022-02-26T12:05:02.347683Z",
     "shell.execute_reply.started": "2022-02-26T10:32:33.918368Z"
    },
    "papermill": {
     "duration": 0.029772,
     "end_time": "2022-02-26T12:05:02.347871",
     "exception": false,
     "start_time": "2022-02-26T12:05:02.318099",
     "status": "completed"
    },
    "tags": []
   },
   "outputs": [
    {
     "data": {
      "text/plain": [
       "146"
      ]
     },
     "execution_count": 15,
     "metadata": {},
     "output_type": "execute_result"
    }
   ],
   "source": [
    "len(X_train[0])"
   ]
  },
  {
   "cell_type": "code",
   "execution_count": 16,
   "id": "6ce6b9e9",
   "metadata": {
    "execution": {
     "iopub.execute_input": "2022-02-26T12:05:02.394611Z",
     "iopub.status.busy": "2022-02-26T12:05:02.393689Z",
     "iopub.status.idle": "2022-02-26T12:05:02.399163Z",
     "shell.execute_reply": "2022-02-26T12:05:02.399686Z",
     "shell.execute_reply.started": "2022-02-26T10:32:37.935914Z"
    },
    "papermill": {
     "duration": 0.030504,
     "end_time": "2022-02-26T12:05:02.399877",
     "exception": false,
     "start_time": "2022-02-26T12:05:02.369373",
     "status": "completed"
    },
    "tags": []
   },
   "outputs": [
    {
     "data": {
      "text/plain": [
       "array([1., 1., 1., ..., 1., 0., 1.])"
      ]
     },
     "execution_count": 16,
     "metadata": {},
     "output_type": "execute_result"
    }
   ],
   "source": [
    "Y"
   ]
  },
  {
   "cell_type": "code",
   "execution_count": 17,
   "id": "15a1d455",
   "metadata": {
    "execution": {
     "iopub.execute_input": "2022-02-26T12:05:02.446954Z",
     "iopub.status.busy": "2022-02-26T12:05:02.446246Z",
     "iopub.status.idle": "2022-02-26T16:10:30.499226Z",
     "shell.execute_reply": "2022-02-26T16:10:30.499909Z"
    },
    "papermill": {
     "duration": 14728.078474,
     "end_time": "2022-02-26T16:10:30.500234",
     "exception": false,
     "start_time": "2022-02-26T12:05:02.421760",
     "status": "completed"
    },
    "tags": []
   },
   "outputs": [
    {
     "name": "stderr",
     "output_type": "stream",
     "text": [
      "2022-02-26 12:05:02.544334: I tensorflow/compiler/mlir/mlir_graph_optimization_pass.cc:185] None of the MLIR Optimization Passes are enabled (registered 2)\n"
     ]
    },
    {
     "name": "stdout",
     "output_type": "stream",
     "text": [
      "Epoch 1/20\n",
      "37/37 [==============================] - 753s 20s/step - loss: 0.5899 - accuracy: 0.7084 - val_loss: 0.5120 - val_accuracy: 0.7544\n",
      "Epoch 2/20\n",
      "37/37 [==============================] - 739s 20s/step - loss: 0.4946 - accuracy: 0.7664 - val_loss: 0.4705 - val_accuracy: 0.7790\n",
      "Epoch 3/20\n",
      "37/37 [==============================] - 736s 20s/step - loss: 0.4569 - accuracy: 0.7879 - val_loss: 0.4308 - val_accuracy: 0.8025\n",
      "Epoch 4/20\n",
      "37/37 [==============================] - 733s 20s/step - loss: 0.4291 - accuracy: 0.8059 - val_loss: 0.4061 - val_accuracy: 0.8227\n",
      "Epoch 5/20\n",
      "37/37 [==============================] - 731s 20s/step - loss: 0.4055 - accuracy: 0.8201 - val_loss: 0.4031 - val_accuracy: 0.8199\n",
      "Epoch 6/20\n",
      "37/37 [==============================] - 736s 20s/step - loss: 0.3994 - accuracy: 0.8239 - val_loss: 0.3790 - val_accuracy: 0.8320\n",
      "Epoch 7/20\n",
      "37/37 [==============================] - 739s 20s/step - loss: 0.3816 - accuracy: 0.8328 - val_loss: 0.3831 - val_accuracy: 0.8345\n",
      "Epoch 8/20\n",
      "37/37 [==============================] - 742s 20s/step - loss: 0.3708 - accuracy: 0.8393 - val_loss: 0.3701 - val_accuracy: 0.8344\n",
      "Epoch 9/20\n",
      "37/37 [==============================] - 733s 20s/step - loss: 0.3710 - accuracy: 0.8387 - val_loss: 0.3649 - val_accuracy: 0.8392\n",
      "Epoch 10/20\n",
      "37/37 [==============================] - 731s 20s/step - loss: 0.3599 - accuracy: 0.8453 - val_loss: 0.3583 - val_accuracy: 0.8440\n",
      "Epoch 11/20\n",
      "37/37 [==============================] - 735s 20s/step - loss: 0.3539 - accuracy: 0.8482 - val_loss: 0.3529 - val_accuracy: 0.8472\n",
      "Epoch 12/20\n",
      "37/37 [==============================] - 742s 20s/step - loss: 0.3458 - accuracy: 0.8519 - val_loss: 0.3495 - val_accuracy: 0.8490\n",
      "Epoch 13/20\n",
      "37/37 [==============================] - 734s 20s/step - loss: 0.3478 - accuracy: 0.8516 - val_loss: 0.3605 - val_accuracy: 0.8419\n",
      "Epoch 14/20\n",
      "37/37 [==============================] - 731s 20s/step - loss: 0.3436 - accuracy: 0.8539 - val_loss: 0.3655 - val_accuracy: 0.8426\n",
      "Epoch 15/20\n",
      "37/37 [==============================] - 732s 20s/step - loss: 0.3441 - accuracy: 0.8539 - val_loss: 0.3564 - val_accuracy: 0.8451\n",
      "Epoch 16/20\n",
      "37/37 [==============================] - 738s 20s/step - loss: 0.3342 - accuracy: 0.8587 - val_loss: 0.3415 - val_accuracy: 0.8518\n",
      "Epoch 17/20\n",
      "37/37 [==============================] - 734s 20s/step - loss: 0.3332 - accuracy: 0.8591 - val_loss: 0.3555 - val_accuracy: 0.8515\n",
      "Epoch 18/20\n",
      "37/37 [==============================] - 729s 20s/step - loss: 0.3325 - accuracy: 0.8592 - val_loss: 0.3532 - val_accuracy: 0.8527\n",
      "Epoch 19/20\n",
      "37/37 [==============================] - 730s 20s/step - loss: 0.3486 - accuracy: 0.8539 - val_loss: 0.3458 - val_accuracy: 0.8500\n",
      "Epoch 20/20\n",
      "37/37 [==============================] - 732s 20s/step - loss: 0.3248 - accuracy: 0.8631 - val_loss: 0.3438 - val_accuracy: 0.8534\n"
     ]
    },
    {
     "data": {
      "text/plain": [
       "<keras.callbacks.History at 0x7f3b8c4e3dd0>"
      ]
     },
     "execution_count": 17,
     "metadata": {},
     "output_type": "execute_result"
    }
   ],
   "source": [
    "model.fit(X_train, Y_train, validation_data=(X_test, Y_test), epochs = 20, batch_size = 2560, shuffle=True, verbose = 1)"
   ]
  },
  {
   "cell_type": "code",
   "execution_count": null,
   "id": "89492957",
   "metadata": {
    "papermill": {
     "duration": 0.304195,
     "end_time": "2022-02-26T16:10:31.108476",
     "exception": false,
     "start_time": "2022-02-26T16:10:30.804281",
     "status": "completed"
    },
    "tags": []
   },
   "outputs": [],
   "source": []
  }
 ],
 "metadata": {
  "kernelspec": {
   "display_name": "Python 3",
   "language": "python",
   "name": "python3"
  },
  "language_info": {
   "codemirror_mode": {
    "name": "ipython",
    "version": 3
   },
   "file_extension": ".py",
   "mimetype": "text/x-python",
   "name": "python",
   "nbconvert_exporter": "python",
   "pygments_lexer": "ipython3",
   "version": "3.7.12"
  },
  "papermill": {
   "default_parameters": {},
   "duration": 15089.857201,
   "end_time": "2022-02-26T16:10:35.175747",
   "environment_variables": {},
   "exception": null,
   "input_path": "__notebook__.ipynb",
   "output_path": "__notebook__.ipynb",
   "parameters": {},
   "start_time": "2022-02-26T11:59:05.318546",
   "version": "2.3.3"
  }
 },
 "nbformat": 4,
 "nbformat_minor": 5
}
